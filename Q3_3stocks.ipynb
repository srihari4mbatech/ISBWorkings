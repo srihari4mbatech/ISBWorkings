{
 "cells": [
  {
   "cell_type": "markdown",
   "id": "dcfdfbc0-9f5e-4fde-9017-1bbc3c1a5759",
   "metadata": {},
   "source": [
    "In financial models, variables are often correlated, and the model must capture this statistical behavior. Variables that are correlated tend to move together but not in a completely predictable manner. Example: Price of two tech stocks are positively correlated. We can assume that the daily price changes in these two stocks are positively correlated.\n",
    " - Suppose a client has a portfolio consisting of 12 stocks. Assume unit time increment is one week. Compute the drift and volatility parameters from historical data.\n",
    " - Discuss how you would do a simulation-optimization. That is, solve a portfolio optimization problem with correlated stock values."
   ]
  },
  {
   "cell_type": "code",
   "execution_count": 377,
   "id": "6f5df4f0-79c0-477a-a44f-e28075a73832",
   "metadata": {},
   "outputs": [],
   "source": [
    "import pyomo\n",
    "import pandas as pd\n",
    "import numpy as np\n",
    "import pyomo.environ as pyo\n",
    "from pyomo.environ import *\n",
    "from pyomo.opt import SolverFactory\n",
    "from numpy.random import lognormal\n",
    "import plotly.express as px\n",
    "import numpy as np\n",
    "from scipy.optimize import minimize\n",
    "import simpy\n",
    "import plotly.graph_objects as go\n",
    "import plotly.subplots as sp\n",
    "# Example expected returns (12x1 vector)"
   ]
  },
  {
   "cell_type": "markdown",
   "id": "b2934847",
   "metadata": {},
   "source": [
    "##### Loading Historical Data"
   ]
  },
  {
   "cell_type": "code",
   "execution_count": 378,
   "id": "a4d669b9-2863-4c7b-a630-a4ff4b151fe9",
   "metadata": {},
   "outputs": [],
   "source": [
    "# import pandas as pd\n",
    "\n",
    "# Specify the path to the folder that contains the CSV file\n",
    "folder_path = \"/Users/sriharikodam/Documents/IsbAMPBA/Term3/AOS/STOCKS\"\n",
    "\n",
    "# Use the os module to get a list of all CSV files in the folder\n",
    "import os\n",
    "csv_files = [f for f in os.listdir(folder_path) if f.endswith('.csv')]\n",
    "\n",
    "# Load the CSV files into a list of DataFrames\n",
    "dfs = []\n",
    "symbolLst=[]\n",
    "for csv in csv_files:\n",
    "    df = pd.read_csv(os.path.join(folder_path, csv))\n",
    "    symbolLst.append(csv.split(\".\")[0])\n",
    "    newdf=df[['Close']]\n",
    "    dfs.append(newdf)\n",
    "\n",
    "# Concatenate the DataFrames in the list into a single DataFrame\n",
    "final_df = pd.concat(dfs, ignore_index=True,axis=1)\n",
    "final_df.columns=symbolLst"
   ]
  },
  {
   "cell_type": "markdown",
   "id": "04b03e70",
   "metadata": {},
   "source": [
    "#### Verifying Data"
   ]
  },
  {
   "cell_type": "code",
   "execution_count": 379,
   "id": "91e5a1ae-f7ec-4b01-8fdf-53014360555e",
   "metadata": {},
   "outputs": [
    {
     "data": {
      "text/html": [
       "<div>\n",
       "<style scoped>\n",
       "    .dataframe tbody tr th:only-of-type {\n",
       "        vertical-align: middle;\n",
       "    }\n",
       "\n",
       "    .dataframe tbody tr th {\n",
       "        vertical-align: top;\n",
       "    }\n",
       "\n",
       "    .dataframe thead th {\n",
       "        text-align: right;\n",
       "    }\n",
       "</style>\n",
       "<table border=\"1\" class=\"dataframe\">\n",
       "  <thead>\n",
       "    <tr style=\"text-align: right;\">\n",
       "      <th></th>\n",
       "      <th>COALINDIA</th>\n",
       "      <th>ADANIENT</th>\n",
       "      <th>ADANIPORTS</th>\n",
       "      <th>ASIANPAINT</th>\n",
       "      <th>APOLLOHOSP</th>\n",
       "      <th>BPCL</th>\n",
       "      <th>RELIANCE</th>\n",
       "      <th>BRITANNIA</th>\n",
       "      <th>BAJFINANCE</th>\n",
       "      <th>CIPLA</th>\n",
       "      <th>BHARTIARTL</th>\n",
       "      <th>BAJAJ-AUTO</th>\n",
       "    </tr>\n",
       "  </thead>\n",
       "  <tbody>\n",
       "    <tr>\n",
       "      <th>2023-02-10</th>\n",
       "      <td>213.050003</td>\n",
       "      <td>1846.949951</td>\n",
       "      <td>553.700012</td>\n",
       "      <td>2790.750000</td>\n",
       "      <td>4358.649902</td>\n",
       "      <td>334.899994</td>\n",
       "      <td>2336.649902</td>\n",
       "      <td>4588.000000</td>\n",
       "      <td>6345.500000</td>\n",
       "      <td>1021.950012</td>\n",
       "      <td>768.599976</td>\n",
       "      <td>3831.649902</td>\n",
       "    </tr>\n",
       "    <tr>\n",
       "      <th>2023-02-13</th>\n",
       "      <td>211.750000</td>\n",
       "      <td>1717.650024</td>\n",
       "      <td>565.099976</td>\n",
       "      <td>2777.000000</td>\n",
       "      <td>4268.850098</td>\n",
       "      <td>331.149994</td>\n",
       "      <td>2323.350098</td>\n",
       "      <td>4599.850098</td>\n",
       "      <td>6458.700195</td>\n",
       "      <td>1028.349976</td>\n",
       "      <td>775.200012</td>\n",
       "      <td>3883.500000</td>\n",
       "    </tr>\n",
       "    <tr>\n",
       "      <th>2023-02-14</th>\n",
       "      <td>212.899994</td>\n",
       "      <td>1749.699951</td>\n",
       "      <td>569.049988</td>\n",
       "      <td>2786.149902</td>\n",
       "      <td>4487.899902</td>\n",
       "      <td>331.149994</td>\n",
       "      <td>2378.100098</td>\n",
       "      <td>4588.450195</td>\n",
       "      <td>6489.950195</td>\n",
       "      <td>1030.800049</td>\n",
       "      <td>785.400024</td>\n",
       "      <td>3876.100098</td>\n",
       "    </tr>\n",
       "    <tr>\n",
       "      <th>2023-02-15</th>\n",
       "      <td>215.449997</td>\n",
       "      <td>1779.099976</td>\n",
       "      <td>577.200012</td>\n",
       "      <td>2805.949951</td>\n",
       "      <td>4643.149902</td>\n",
       "      <td>325.700012</td>\n",
       "      <td>2431.949951</td>\n",
       "      <td>4572.000000</td>\n",
       "      <td>6437.299805</td>\n",
       "      <td>1035.500000</td>\n",
       "      <td>784.450012</td>\n",
       "      <td>3905.399902</td>\n",
       "    </tr>\n",
       "    <tr>\n",
       "      <th>2023-02-16</th>\n",
       "      <td>217.500000</td>\n",
       "      <td>1796.599976</td>\n",
       "      <td>578.650024</td>\n",
       "      <td>2833.600098</td>\n",
       "      <td>4614.700195</td>\n",
       "      <td>331.700012</td>\n",
       "      <td>2430.050049</td>\n",
       "      <td>4533.250000</td>\n",
       "      <td>6416.700195</td>\n",
       "      <td>1025.750000</td>\n",
       "      <td>776.799988</td>\n",
       "      <td>3906.600098</td>\n",
       "    </tr>\n",
       "    <tr>\n",
       "      <th>2023-02-17</th>\n",
       "      <td>218.300003</td>\n",
       "      <td>1722.699951</td>\n",
       "      <td>579.700012</td>\n",
       "      <td>2825.550049</td>\n",
       "      <td>4610.600098</td>\n",
       "      <td>326.149994</td>\n",
       "      <td>2440.199951</td>\n",
       "      <td>4453.799805</td>\n",
       "      <td>6367.399902</td>\n",
       "      <td>964.000000</td>\n",
       "      <td>779.150024</td>\n",
       "      <td>3894.300049</td>\n",
       "    </tr>\n",
       "    <tr>\n",
       "      <th>2023-02-20</th>\n",
       "      <td>214.050003</td>\n",
       "      <td>1621.449951</td>\n",
       "      <td>583.200012</td>\n",
       "      <td>2817.100098</td>\n",
       "      <td>4502.049805</td>\n",
       "      <td>323.250000</td>\n",
       "      <td>2414.399902</td>\n",
       "      <td>4503.350098</td>\n",
       "      <td>6379.250000</td>\n",
       "      <td>965.950012</td>\n",
       "      <td>779.049988</td>\n",
       "      <td>3903.800049</td>\n",
       "    </tr>\n",
       "    <tr>\n",
       "      <th>2023-02-21</th>\n",
       "      <td>211.850006</td>\n",
       "      <td>1571.099976</td>\n",
       "      <td>547.099976</td>\n",
       "      <td>2795.949951</td>\n",
       "      <td>4449.100098</td>\n",
       "      <td>320.450012</td>\n",
       "      <td>2434.100098</td>\n",
       "      <td>4484.500000</td>\n",
       "      <td>6198.649902</td>\n",
       "      <td>962.549988</td>\n",
       "      <td>772.150024</td>\n",
       "      <td>3837.100098</td>\n",
       "    </tr>\n",
       "    <tr>\n",
       "      <th>2023-02-22</th>\n",
       "      <td>214.899994</td>\n",
       "      <td>1404.849976</td>\n",
       "      <td>551.849976</td>\n",
       "      <td>2705.949951</td>\n",
       "      <td>4448.049805</td>\n",
       "      <td>320.549988</td>\n",
       "      <td>2378.899902</td>\n",
       "      <td>4451.500000</td>\n",
       "      <td>6202.350098</td>\n",
       "      <td>960.299988</td>\n",
       "      <td>762.950012</td>\n",
       "      <td>3840.699951</td>\n",
       "    </tr>\n",
       "    <tr>\n",
       "      <th>2023-02-23</th>\n",
       "      <td>217.050003</td>\n",
       "      <td>1382.650024</td>\n",
       "      <td>558.900024</td>\n",
       "      <td>2738.500000</td>\n",
       "      <td>4470.649902</td>\n",
       "      <td>317.549988</td>\n",
       "      <td>2367.500000</td>\n",
       "      <td>4442.549805</td>\n",
       "      <td>6236.250000</td>\n",
       "      <td>961.799988</td>\n",
       "      <td>757.099976</td>\n",
       "      <td>3831.899902</td>\n",
       "    </tr>\n",
       "  </tbody>\n",
       "</table>\n",
       "</div>"
      ],
      "text/plain": [
       "             COALINDIA     ADANIENT  ADANIPORTS   ASIANPAINT   APOLLOHOSP  \\\n",
       "2023-02-10  213.050003  1846.949951  553.700012  2790.750000  4358.649902   \n",
       "2023-02-13  211.750000  1717.650024  565.099976  2777.000000  4268.850098   \n",
       "2023-02-14  212.899994  1749.699951  569.049988  2786.149902  4487.899902   \n",
       "2023-02-15  215.449997  1779.099976  577.200012  2805.949951  4643.149902   \n",
       "2023-02-16  217.500000  1796.599976  578.650024  2833.600098  4614.700195   \n",
       "2023-02-17  218.300003  1722.699951  579.700012  2825.550049  4610.600098   \n",
       "2023-02-20  214.050003  1621.449951  583.200012  2817.100098  4502.049805   \n",
       "2023-02-21  211.850006  1571.099976  547.099976  2795.949951  4449.100098   \n",
       "2023-02-22  214.899994  1404.849976  551.849976  2705.949951  4448.049805   \n",
       "2023-02-23  217.050003  1382.650024  558.900024  2738.500000  4470.649902   \n",
       "\n",
       "                  BPCL     RELIANCE    BRITANNIA   BAJFINANCE        CIPLA  \\\n",
       "2023-02-10  334.899994  2336.649902  4588.000000  6345.500000  1021.950012   \n",
       "2023-02-13  331.149994  2323.350098  4599.850098  6458.700195  1028.349976   \n",
       "2023-02-14  331.149994  2378.100098  4588.450195  6489.950195  1030.800049   \n",
       "2023-02-15  325.700012  2431.949951  4572.000000  6437.299805  1035.500000   \n",
       "2023-02-16  331.700012  2430.050049  4533.250000  6416.700195  1025.750000   \n",
       "2023-02-17  326.149994  2440.199951  4453.799805  6367.399902   964.000000   \n",
       "2023-02-20  323.250000  2414.399902  4503.350098  6379.250000   965.950012   \n",
       "2023-02-21  320.450012  2434.100098  4484.500000  6198.649902   962.549988   \n",
       "2023-02-22  320.549988  2378.899902  4451.500000  6202.350098   960.299988   \n",
       "2023-02-23  317.549988  2367.500000  4442.549805  6236.250000   961.799988   \n",
       "\n",
       "            BHARTIARTL   BAJAJ-AUTO  \n",
       "2023-02-10  768.599976  3831.649902  \n",
       "2023-02-13  775.200012  3883.500000  \n",
       "2023-02-14  785.400024  3876.100098  \n",
       "2023-02-15  784.450012  3905.399902  \n",
       "2023-02-16  776.799988  3906.600098  \n",
       "2023-02-17  779.150024  3894.300049  \n",
       "2023-02-20  779.049988  3903.800049  \n",
       "2023-02-21  772.150024  3837.100098  \n",
       "2023-02-22  762.950012  3840.699951  \n",
       "2023-02-23  757.099976  3831.899902  "
      ]
     },
     "execution_count": 379,
     "metadata": {},
     "output_type": "execute_result"
    }
   ],
   "source": [
    "final_df.index=pd.to_datetime(df['Date'].tolist())\n",
    "final_df.head(10)"
   ]
  },
  {
   "cell_type": "markdown",
   "id": "4cff4da6",
   "metadata": {},
   "source": [
    "#### Resampling to 5 Working Days"
   ]
  },
  {
   "cell_type": "code",
   "execution_count": 380,
   "id": "9a448215-4cf9-4e64-9d40-eda26a181a37",
   "metadata": {},
   "outputs": [
    {
     "data": {
      "text/html": [
       "<div>\n",
       "<style scoped>\n",
       "    .dataframe tbody tr th:only-of-type {\n",
       "        vertical-align: middle;\n",
       "    }\n",
       "\n",
       "    .dataframe tbody tr th {\n",
       "        vertical-align: top;\n",
       "    }\n",
       "\n",
       "    .dataframe thead th {\n",
       "        text-align: right;\n",
       "    }\n",
       "</style>\n",
       "<table border=\"1\" class=\"dataframe\">\n",
       "  <thead>\n",
       "    <tr style=\"text-align: right;\">\n",
       "      <th></th>\n",
       "      <th>COALINDIA</th>\n",
       "      <th>ADANIENT</th>\n",
       "      <th>ADANIPORTS</th>\n",
       "      <th>ASIANPAINT</th>\n",
       "      <th>APOLLOHOSP</th>\n",
       "      <th>BPCL</th>\n",
       "      <th>RELIANCE</th>\n",
       "      <th>BRITANNIA</th>\n",
       "      <th>BAJFINANCE</th>\n",
       "      <th>CIPLA</th>\n",
       "      <th>BHARTIARTL</th>\n",
       "      <th>BAJAJ-AUTO</th>\n",
       "    </tr>\n",
       "  </thead>\n",
       "  <tbody>\n",
       "    <tr>\n",
       "      <th>2023-02-10</th>\n",
       "      <td>212.566666</td>\n",
       "      <td>1771.433309</td>\n",
       "      <td>562.616659</td>\n",
       "      <td>2784.633301</td>\n",
       "      <td>4371.799967</td>\n",
       "      <td>332.399994</td>\n",
       "      <td>2346.033366</td>\n",
       "      <td>4592.100098</td>\n",
       "      <td>6431.383463</td>\n",
       "      <td>1027.033346</td>\n",
       "      <td>776.400004</td>\n",
       "      <td>3863.750000</td>\n",
       "    </tr>\n",
       "    <tr>\n",
       "      <th>2023-02-15</th>\n",
       "      <td>217.083333</td>\n",
       "      <td>1766.133301</td>\n",
       "      <td>578.516683</td>\n",
       "      <td>2821.700033</td>\n",
       "      <td>4622.816732</td>\n",
       "      <td>327.850006</td>\n",
       "      <td>2434.066650</td>\n",
       "      <td>4519.683268</td>\n",
       "      <td>6407.133301</td>\n",
       "      <td>1008.416667</td>\n",
       "      <td>780.133341</td>\n",
       "      <td>3902.100016</td>\n",
       "    </tr>\n",
       "    <tr>\n",
       "      <th>2023-02-20</th>\n",
       "      <td>214.960001</td>\n",
       "      <td>1459.139990</td>\n",
       "      <td>560.609998</td>\n",
       "      <td>2761.479980</td>\n",
       "      <td>4461.919922</td>\n",
       "      <td>320.450000</td>\n",
       "      <td>2395.719971</td>\n",
       "      <td>4454.029981</td>\n",
       "      <td>6242.200000</td>\n",
       "      <td>960.159998</td>\n",
       "      <td>764.830005</td>\n",
       "      <td>3852.689990</td>\n",
       "    </tr>\n",
       "    <tr>\n",
       "      <th>2023-02-25</th>\n",
       "      <td>219.000000</td>\n",
       "      <td>1373.883342</td>\n",
       "      <td>605.816671</td>\n",
       "      <td>2834.533284</td>\n",
       "      <td>4405.883301</td>\n",
       "      <td>318.099996</td>\n",
       "      <td>2344.766683</td>\n",
       "      <td>4411.916667</td>\n",
       "      <td>6116.650065</td>\n",
       "      <td>897.483337</td>\n",
       "      <td>744.183329</td>\n",
       "      <td>3677.566650</td>\n",
       "    </tr>\n",
       "    <tr>\n",
       "      <th>2023-03-02</th>\n",
       "      <td>224.233332</td>\n",
       "      <td>1823.216675</td>\n",
       "      <td>695.816671</td>\n",
       "      <td>2850.983399</td>\n",
       "      <td>4401.816569</td>\n",
       "      <td>324.016663</td>\n",
       "      <td>2373.383301</td>\n",
       "      <td>4357.150065</td>\n",
       "      <td>6077.250000</td>\n",
       "      <td>878.933349</td>\n",
       "      <td>765.849996</td>\n",
       "      <td>3723.433350</td>\n",
       "    </tr>\n",
       "    <tr>\n",
       "      <th>2023-03-07</th>\n",
       "      <td>223.316671</td>\n",
       "      <td>1963.000000</td>\n",
       "      <td>692.083333</td>\n",
       "      <td>2822.649984</td>\n",
       "      <td>4360.133301</td>\n",
       "      <td>324.500000</td>\n",
       "      <td>2366.433350</td>\n",
       "      <td>4303.433431</td>\n",
       "      <td>5869.666504</td>\n",
       "      <td>879.250000</td>\n",
       "      <td>770.816671</td>\n",
       "      <td>3815.533284</td>\n",
       "    </tr>\n",
       "    <tr>\n",
       "      <th>2023-03-12</th>\n",
       "      <td>220.862499</td>\n",
       "      <td>1823.850006</td>\n",
       "      <td>673.449982</td>\n",
       "      <td>2832.224976</td>\n",
       "      <td>4323.487427</td>\n",
       "      <td>339.699997</td>\n",
       "      <td>2255.849976</td>\n",
       "      <td>4302.450073</td>\n",
       "      <td>5724.437500</td>\n",
       "      <td>876.875000</td>\n",
       "      <td>757.912506</td>\n",
       "      <td>3765.387451</td>\n",
       "    </tr>\n",
       "    <tr>\n",
       "      <th>2023-03-17</th>\n",
       "      <td>216.016668</td>\n",
       "      <td>1835.250000</td>\n",
       "      <td>662.900004</td>\n",
       "      <td>2844.700033</td>\n",
       "      <td>4290.700033</td>\n",
       "      <td>356.666657</td>\n",
       "      <td>2231.350016</td>\n",
       "      <td>4280.333496</td>\n",
       "      <td>5698.366699</td>\n",
       "      <td>864.150004</td>\n",
       "      <td>756.150004</td>\n",
       "      <td>3841.699951</td>\n",
       "    </tr>\n",
       "    <tr>\n",
       "      <th>2023-03-22</th>\n",
       "      <td>210.066666</td>\n",
       "      <td>1783.350016</td>\n",
       "      <td>640.683329</td>\n",
       "      <td>2800.016683</td>\n",
       "      <td>4291.500000</td>\n",
       "      <td>346.200002</td>\n",
       "      <td>2242.566732</td>\n",
       "      <td>4219.150065</td>\n",
       "      <td>5691.783203</td>\n",
       "      <td>878.549988</td>\n",
       "      <td>762.583333</td>\n",
       "      <td>3871.599935</td>\n",
       "    </tr>\n",
       "    <tr>\n",
       "      <th>2023-03-27</th>\n",
       "      <td>213.912495</td>\n",
       "      <td>1703.687500</td>\n",
       "      <td>622.437515</td>\n",
       "      <td>2773.399963</td>\n",
       "      <td>4310.462524</td>\n",
       "      <td>338.487503</td>\n",
       "      <td>2262.825012</td>\n",
       "      <td>4280.599976</td>\n",
       "      <td>5622.862549</td>\n",
       "      <td>892.287506</td>\n",
       "      <td>750.399994</td>\n",
       "      <td>3840.800049</td>\n",
       "    </tr>\n",
       "  </tbody>\n",
       "</table>\n",
       "</div>"
      ],
      "text/plain": [
       "             COALINDIA     ADANIENT  ADANIPORTS   ASIANPAINT   APOLLOHOSP  \\\n",
       "2023-02-10  212.566666  1771.433309  562.616659  2784.633301  4371.799967   \n",
       "2023-02-15  217.083333  1766.133301  578.516683  2821.700033  4622.816732   \n",
       "2023-02-20  214.960001  1459.139990  560.609998  2761.479980  4461.919922   \n",
       "2023-02-25  219.000000  1373.883342  605.816671  2834.533284  4405.883301   \n",
       "2023-03-02  224.233332  1823.216675  695.816671  2850.983399  4401.816569   \n",
       "2023-03-07  223.316671  1963.000000  692.083333  2822.649984  4360.133301   \n",
       "2023-03-12  220.862499  1823.850006  673.449982  2832.224976  4323.487427   \n",
       "2023-03-17  216.016668  1835.250000  662.900004  2844.700033  4290.700033   \n",
       "2023-03-22  210.066666  1783.350016  640.683329  2800.016683  4291.500000   \n",
       "2023-03-27  213.912495  1703.687500  622.437515  2773.399963  4310.462524   \n",
       "\n",
       "                  BPCL     RELIANCE    BRITANNIA   BAJFINANCE        CIPLA  \\\n",
       "2023-02-10  332.399994  2346.033366  4592.100098  6431.383463  1027.033346   \n",
       "2023-02-15  327.850006  2434.066650  4519.683268  6407.133301  1008.416667   \n",
       "2023-02-20  320.450000  2395.719971  4454.029981  6242.200000   960.159998   \n",
       "2023-02-25  318.099996  2344.766683  4411.916667  6116.650065   897.483337   \n",
       "2023-03-02  324.016663  2373.383301  4357.150065  6077.250000   878.933349   \n",
       "2023-03-07  324.500000  2366.433350  4303.433431  5869.666504   879.250000   \n",
       "2023-03-12  339.699997  2255.849976  4302.450073  5724.437500   876.875000   \n",
       "2023-03-17  356.666657  2231.350016  4280.333496  5698.366699   864.150004   \n",
       "2023-03-22  346.200002  2242.566732  4219.150065  5691.783203   878.549988   \n",
       "2023-03-27  338.487503  2262.825012  4280.599976  5622.862549   892.287506   \n",
       "\n",
       "            BHARTIARTL   BAJAJ-AUTO  \n",
       "2023-02-10  776.400004  3863.750000  \n",
       "2023-02-15  780.133341  3902.100016  \n",
       "2023-02-20  764.830005  3852.689990  \n",
       "2023-02-25  744.183329  3677.566650  \n",
       "2023-03-02  765.849996  3723.433350  \n",
       "2023-03-07  770.816671  3815.533284  \n",
       "2023-03-12  757.912506  3765.387451  \n",
       "2023-03-17  756.150004  3841.699951  \n",
       "2023-03-22  762.583333  3871.599935  \n",
       "2023-03-27  750.399994  3840.800049  "
      ]
     },
     "execution_count": 380,
     "metadata": {},
     "output_type": "execute_result"
    }
   ],
   "source": [
    "finalDfPerWeek=final_df.resample('5D').mean() #Stock price has been resamples for week\n",
    "finalDfPerWeek.head(10)"
   ]
  },
  {
   "cell_type": "markdown",
   "id": "d34a6f53-3612-4b1b-9360-c7f148005c69",
   "metadata": {},
   "source": [
    "##### Drift & Volatility in the 12 Stocks price"
   ]
  },
  {
   "cell_type": "code",
   "execution_count": 455,
   "id": "f56c73c2-cb17-4509-8005-eabc10c1449a",
   "metadata": {},
   "outputs": [],
   "source": [
    "PctSeries=finalDfPerWeek.pct_change(axis=0)\n",
    "PctSeriesSamplemean=pd.DataFrame()\n",
    "for i in range(50):\n",
    "    SampleDf=PctSeries.sample(50)\n",
    "    PctSeriesSamplemean=pd.concat([PctSeriesSamplemean,SampleDf.mean()],axis=1) # 12 Stocks mean percentage change which is drift of stocks\n",
    "    # PctSeriesSamplestd= SampleDf.std() # 12 stock standard deviation of percentage change which is volatility of stocks\n",
    "\n",
    "# PctSeries=\n",
    "PctMeanSeries = PctSeriesSamplemean.mean(axis=1)\n",
    "PctStdSeries= PctSeriesSamplemean.std(axis=1)\n",
    "DriftData= pd.DataFrame(data= PctMeanSeries,columns=['Drift'])\n",
    "DriftData['Volatility']= PctStdSeries\n",
    "DriftData.head(20)\n",
    "DriftData.to_csv(\"DriftData.csv\")"
   ]
  },
  {
   "cell_type": "markdown",
   "id": "514c0110-e601-485d-b6e8-5d158b330f75",
   "metadata": {},
   "source": [
    "### Covariance matrix of stock"
   ]
  },
  {
   "cell_type": "code",
   "execution_count": 382,
   "id": "12be151b",
   "metadata": {},
   "outputs": [
    {
     "data": {
      "text/html": [
       "<div>\n",
       "<style scoped>\n",
       "    .dataframe tbody tr th:only-of-type {\n",
       "        vertical-align: middle;\n",
       "    }\n",
       "\n",
       "    .dataframe tbody tr th {\n",
       "        vertical-align: top;\n",
       "    }\n",
       "\n",
       "    .dataframe thead th {\n",
       "        text-align: right;\n",
       "    }\n",
       "</style>\n",
       "<table border=\"1\" class=\"dataframe\">\n",
       "  <thead>\n",
       "    <tr style=\"text-align: right;\">\n",
       "      <th></th>\n",
       "      <th>COALINDIA</th>\n",
       "      <th>ADANIENT</th>\n",
       "      <th>ADANIPORTS</th>\n",
       "      <th>ASIANPAINT</th>\n",
       "      <th>APOLLOHOSP</th>\n",
       "      <th>BPCL</th>\n",
       "      <th>RELIANCE</th>\n",
       "      <th>BRITANNIA</th>\n",
       "      <th>BAJFINANCE</th>\n",
       "      <th>CIPLA</th>\n",
       "      <th>BHARTIARTL</th>\n",
       "      <th>BAJAJ-AUTO</th>\n",
       "    </tr>\n",
       "  </thead>\n",
       "  <tbody>\n",
       "    <tr>\n",
       "      <th>COALINDIA</th>\n",
       "      <td>4.827288e-06</td>\n",
       "      <td>2.836095e-06</td>\n",
       "      <td>1.241455e-06</td>\n",
       "      <td>1.010612e-07</td>\n",
       "      <td>-8.502073e-07</td>\n",
       "      <td>2.376352e-06</td>\n",
       "      <td>1.417120e-06</td>\n",
       "      <td>-1.293456e-07</td>\n",
       "      <td>3.636842e-07</td>\n",
       "      <td>-7.047987e-08</td>\n",
       "      <td>-2.375403e-07</td>\n",
       "      <td>3.986727e-07</td>\n",
       "    </tr>\n",
       "    <tr>\n",
       "      <th>ADANIENT</th>\n",
       "      <td>2.836095e-06</td>\n",
       "      <td>2.508850e-05</td>\n",
       "      <td>8.894366e-06</td>\n",
       "      <td>1.357961e-06</td>\n",
       "      <td>-5.358416e-07</td>\n",
       "      <td>6.595422e-07</td>\n",
       "      <td>3.533148e-06</td>\n",
       "      <td>1.740806e-06</td>\n",
       "      <td>3.086553e-06</td>\n",
       "      <td>1.152825e-06</td>\n",
       "      <td>6.693712e-07</td>\n",
       "      <td>2.061791e-06</td>\n",
       "    </tr>\n",
       "    <tr>\n",
       "      <th>ADANIPORTS</th>\n",
       "      <td>1.241455e-06</td>\n",
       "      <td>8.894366e-06</td>\n",
       "      <td>8.985465e-06</td>\n",
       "      <td>5.459215e-07</td>\n",
       "      <td>-1.612095e-06</td>\n",
       "      <td>-7.036133e-07</td>\n",
       "      <td>1.707419e-06</td>\n",
       "      <td>-7.939212e-07</td>\n",
       "      <td>5.848660e-07</td>\n",
       "      <td>-1.134810e-06</td>\n",
       "      <td>-1.130876e-06</td>\n",
       "      <td>8.028535e-07</td>\n",
       "    </tr>\n",
       "    <tr>\n",
       "      <th>ASIANPAINT</th>\n",
       "      <td>1.010612e-07</td>\n",
       "      <td>1.357961e-06</td>\n",
       "      <td>5.459215e-07</td>\n",
       "      <td>2.522521e-06</td>\n",
       "      <td>3.165641e-07</td>\n",
       "      <td>8.621544e-07</td>\n",
       "      <td>6.644006e-07</td>\n",
       "      <td>9.691800e-07</td>\n",
       "      <td>1.231578e-06</td>\n",
       "      <td>-7.953891e-07</td>\n",
       "      <td>-5.122633e-07</td>\n",
       "      <td>7.151724e-07</td>\n",
       "    </tr>\n",
       "    <tr>\n",
       "      <th>APOLLOHOSP</th>\n",
       "      <td>-8.502073e-07</td>\n",
       "      <td>-5.358416e-07</td>\n",
       "      <td>-1.612095e-06</td>\n",
       "      <td>3.165641e-07</td>\n",
       "      <td>2.240069e-06</td>\n",
       "      <td>3.921313e-07</td>\n",
       "      <td>-2.286925e-07</td>\n",
       "      <td>1.116191e-06</td>\n",
       "      <td>3.797077e-07</td>\n",
       "      <td>1.808795e-06</td>\n",
       "      <td>7.042506e-07</td>\n",
       "      <td>-9.999244e-08</td>\n",
       "    </tr>\n",
       "    <tr>\n",
       "      <th>BPCL</th>\n",
       "      <td>2.376352e-06</td>\n",
       "      <td>6.595422e-07</td>\n",
       "      <td>-7.036133e-07</td>\n",
       "      <td>8.621544e-07</td>\n",
       "      <td>3.921313e-07</td>\n",
       "      <td>5.552966e-06</td>\n",
       "      <td>7.634715e-07</td>\n",
       "      <td>3.107304e-07</td>\n",
       "      <td>1.007192e-07</td>\n",
       "      <td>6.269405e-07</td>\n",
       "      <td>-2.401105e-08</td>\n",
       "      <td>5.455950e-07</td>\n",
       "    </tr>\n",
       "    <tr>\n",
       "      <th>RELIANCE</th>\n",
       "      <td>1.417120e-06</td>\n",
       "      <td>3.533148e-06</td>\n",
       "      <td>1.707419e-06</td>\n",
       "      <td>6.644006e-07</td>\n",
       "      <td>-2.286925e-07</td>\n",
       "      <td>7.634715e-07</td>\n",
       "      <td>3.004647e-06</td>\n",
       "      <td>6.239508e-07</td>\n",
       "      <td>7.868209e-07</td>\n",
       "      <td>5.793672e-07</td>\n",
       "      <td>-2.990409e-07</td>\n",
       "      <td>6.801546e-07</td>\n",
       "    </tr>\n",
       "    <tr>\n",
       "      <th>BRITANNIA</th>\n",
       "      <td>-1.293456e-07</td>\n",
       "      <td>1.740806e-06</td>\n",
       "      <td>-7.939212e-07</td>\n",
       "      <td>9.691800e-07</td>\n",
       "      <td>1.116191e-06</td>\n",
       "      <td>3.107304e-07</td>\n",
       "      <td>6.239508e-07</td>\n",
       "      <td>1.718433e-06</td>\n",
       "      <td>1.085569e-06</td>\n",
       "      <td>5.677207e-07</td>\n",
       "      <td>5.063356e-07</td>\n",
       "      <td>5.004996e-07</td>\n",
       "    </tr>\n",
       "    <tr>\n",
       "      <th>BAJFINANCE</th>\n",
       "      <td>3.636842e-07</td>\n",
       "      <td>3.086553e-06</td>\n",
       "      <td>5.848660e-07</td>\n",
       "      <td>1.231578e-06</td>\n",
       "      <td>3.797077e-07</td>\n",
       "      <td>1.007192e-07</td>\n",
       "      <td>7.868209e-07</td>\n",
       "      <td>1.085569e-06</td>\n",
       "      <td>3.147824e-06</td>\n",
       "      <td>3.584328e-07</td>\n",
       "      <td>-2.154257e-08</td>\n",
       "      <td>6.899491e-07</td>\n",
       "    </tr>\n",
       "    <tr>\n",
       "      <th>CIPLA</th>\n",
       "      <td>-7.047987e-08</td>\n",
       "      <td>1.152825e-06</td>\n",
       "      <td>-1.134810e-06</td>\n",
       "      <td>-7.953891e-07</td>\n",
       "      <td>1.808795e-06</td>\n",
       "      <td>6.269405e-07</td>\n",
       "      <td>5.793672e-07</td>\n",
       "      <td>5.677207e-07</td>\n",
       "      <td>3.584328e-07</td>\n",
       "      <td>5.343406e-06</td>\n",
       "      <td>7.697961e-07</td>\n",
       "      <td>-3.633593e-07</td>\n",
       "    </tr>\n",
       "    <tr>\n",
       "      <th>BHARTIARTL</th>\n",
       "      <td>-2.375403e-07</td>\n",
       "      <td>6.693712e-07</td>\n",
       "      <td>-1.130876e-06</td>\n",
       "      <td>-5.122633e-07</td>\n",
       "      <td>7.042506e-07</td>\n",
       "      <td>-2.401105e-08</td>\n",
       "      <td>-2.990409e-07</td>\n",
       "      <td>5.063356e-07</td>\n",
       "      <td>-2.154257e-08</td>\n",
       "      <td>7.697961e-07</td>\n",
       "      <td>1.507952e-06</td>\n",
       "      <td>1.826925e-07</td>\n",
       "    </tr>\n",
       "    <tr>\n",
       "      <th>BAJAJ-AUTO</th>\n",
       "      <td>3.986727e-07</td>\n",
       "      <td>2.061791e-06</td>\n",
       "      <td>8.028535e-07</td>\n",
       "      <td>7.151724e-07</td>\n",
       "      <td>-9.999244e-08</td>\n",
       "      <td>5.455950e-07</td>\n",
       "      <td>6.801546e-07</td>\n",
       "      <td>5.004996e-07</td>\n",
       "      <td>6.899491e-07</td>\n",
       "      <td>-3.633593e-07</td>\n",
       "      <td>1.826925e-07</td>\n",
       "      <td>1.875207e-06</td>\n",
       "    </tr>\n",
       "  </tbody>\n",
       "</table>\n",
       "</div>"
      ],
      "text/plain": [
       "               COALINDIA      ADANIENT    ADANIPORTS    ASIANPAINT  \\\n",
       "COALINDIA   4.827288e-06  2.836095e-06  1.241455e-06  1.010612e-07   \n",
       "ADANIENT    2.836095e-06  2.508850e-05  8.894366e-06  1.357961e-06   \n",
       "ADANIPORTS  1.241455e-06  8.894366e-06  8.985465e-06  5.459215e-07   \n",
       "ASIANPAINT  1.010612e-07  1.357961e-06  5.459215e-07  2.522521e-06   \n",
       "APOLLOHOSP -8.502073e-07 -5.358416e-07 -1.612095e-06  3.165641e-07   \n",
       "BPCL        2.376352e-06  6.595422e-07 -7.036133e-07  8.621544e-07   \n",
       "RELIANCE    1.417120e-06  3.533148e-06  1.707419e-06  6.644006e-07   \n",
       "BRITANNIA  -1.293456e-07  1.740806e-06 -7.939212e-07  9.691800e-07   \n",
       "BAJFINANCE  3.636842e-07  3.086553e-06  5.848660e-07  1.231578e-06   \n",
       "CIPLA      -7.047987e-08  1.152825e-06 -1.134810e-06 -7.953891e-07   \n",
       "BHARTIARTL -2.375403e-07  6.693712e-07 -1.130876e-06 -5.122633e-07   \n",
       "BAJAJ-AUTO  3.986727e-07  2.061791e-06  8.028535e-07  7.151724e-07   \n",
       "\n",
       "              APOLLOHOSP          BPCL      RELIANCE     BRITANNIA  \\\n",
       "COALINDIA  -8.502073e-07  2.376352e-06  1.417120e-06 -1.293456e-07   \n",
       "ADANIENT   -5.358416e-07  6.595422e-07  3.533148e-06  1.740806e-06   \n",
       "ADANIPORTS -1.612095e-06 -7.036133e-07  1.707419e-06 -7.939212e-07   \n",
       "ASIANPAINT  3.165641e-07  8.621544e-07  6.644006e-07  9.691800e-07   \n",
       "APOLLOHOSP  2.240069e-06  3.921313e-07 -2.286925e-07  1.116191e-06   \n",
       "BPCL        3.921313e-07  5.552966e-06  7.634715e-07  3.107304e-07   \n",
       "RELIANCE   -2.286925e-07  7.634715e-07  3.004647e-06  6.239508e-07   \n",
       "BRITANNIA   1.116191e-06  3.107304e-07  6.239508e-07  1.718433e-06   \n",
       "BAJFINANCE  3.797077e-07  1.007192e-07  7.868209e-07  1.085569e-06   \n",
       "CIPLA       1.808795e-06  6.269405e-07  5.793672e-07  5.677207e-07   \n",
       "BHARTIARTL  7.042506e-07 -2.401105e-08 -2.990409e-07  5.063356e-07   \n",
       "BAJAJ-AUTO -9.999244e-08  5.455950e-07  6.801546e-07  5.004996e-07   \n",
       "\n",
       "              BAJFINANCE         CIPLA    BHARTIARTL    BAJAJ-AUTO  \n",
       "COALINDIA   3.636842e-07 -7.047987e-08 -2.375403e-07  3.986727e-07  \n",
       "ADANIENT    3.086553e-06  1.152825e-06  6.693712e-07  2.061791e-06  \n",
       "ADANIPORTS  5.848660e-07 -1.134810e-06 -1.130876e-06  8.028535e-07  \n",
       "ASIANPAINT  1.231578e-06 -7.953891e-07 -5.122633e-07  7.151724e-07  \n",
       "APOLLOHOSP  3.797077e-07  1.808795e-06  7.042506e-07 -9.999244e-08  \n",
       "BPCL        1.007192e-07  6.269405e-07 -2.401105e-08  5.455950e-07  \n",
       "RELIANCE    7.868209e-07  5.793672e-07 -2.990409e-07  6.801546e-07  \n",
       "BRITANNIA   1.085569e-06  5.677207e-07  5.063356e-07  5.004996e-07  \n",
       "BAJFINANCE  3.147824e-06  3.584328e-07 -2.154257e-08  6.899491e-07  \n",
       "CIPLA       3.584328e-07  5.343406e-06  7.697961e-07 -3.633593e-07  \n",
       "BHARTIARTL -2.154257e-08  7.697961e-07  1.507952e-06  1.826925e-07  \n",
       "BAJAJ-AUTO  6.899491e-07 -3.633593e-07  1.826925e-07  1.875207e-06  "
      ]
     },
     "execution_count": 382,
     "metadata": {},
     "output_type": "execute_result"
    }
   ],
   "source": [
    "covariance_matrix=PctSeriesSamplemean.T.cov() #Covariance Matrix of Percentage Change\n",
    "covariance_matrix"
   ]
  },
  {
   "cell_type": "markdown",
   "id": "e52bd85f",
   "metadata": {},
   "source": [
    "### Correlation Matrix of Stock"
   ]
  },
  {
   "cell_type": "code",
   "execution_count": 383,
   "id": "6e7ac979-1e01-4999-aca1-8e0975d5de14",
   "metadata": {},
   "outputs": [
    {
     "data": {
      "text/html": [
       "<div>\n",
       "<style scoped>\n",
       "    .dataframe tbody tr th:only-of-type {\n",
       "        vertical-align: middle;\n",
       "    }\n",
       "\n",
       "    .dataframe tbody tr th {\n",
       "        vertical-align: top;\n",
       "    }\n",
       "\n",
       "    .dataframe thead th {\n",
       "        text-align: right;\n",
       "    }\n",
       "</style>\n",
       "<table border=\"1\" class=\"dataframe\">\n",
       "  <thead>\n",
       "    <tr style=\"text-align: right;\">\n",
       "      <th></th>\n",
       "      <th>COALINDIA</th>\n",
       "      <th>ADANIENT</th>\n",
       "      <th>ADANIPORTS</th>\n",
       "      <th>ASIANPAINT</th>\n",
       "      <th>APOLLOHOSP</th>\n",
       "      <th>BPCL</th>\n",
       "      <th>RELIANCE</th>\n",
       "      <th>BRITANNIA</th>\n",
       "      <th>BAJFINANCE</th>\n",
       "      <th>CIPLA</th>\n",
       "      <th>BHARTIARTL</th>\n",
       "      <th>BAJAJ-AUTO</th>\n",
       "    </tr>\n",
       "  </thead>\n",
       "  <tbody>\n",
       "    <tr>\n",
       "      <th>COALINDIA</th>\n",
       "      <td>1.000000</td>\n",
       "      <td>0.257710</td>\n",
       "      <td>0.188499</td>\n",
       "      <td>0.028961</td>\n",
       "      <td>-0.258549</td>\n",
       "      <td>0.458983</td>\n",
       "      <td>0.372099</td>\n",
       "      <td>-0.044909</td>\n",
       "      <td>0.093297</td>\n",
       "      <td>-0.013877</td>\n",
       "      <td>-0.088042</td>\n",
       "      <td>0.132507</td>\n",
       "    </tr>\n",
       "    <tr>\n",
       "      <th>ADANIENT</th>\n",
       "      <td>0.257710</td>\n",
       "      <td>1.000000</td>\n",
       "      <td>0.592390</td>\n",
       "      <td>0.170700</td>\n",
       "      <td>-0.071477</td>\n",
       "      <td>0.055878</td>\n",
       "      <td>0.406938</td>\n",
       "      <td>0.265123</td>\n",
       "      <td>0.347321</td>\n",
       "      <td>0.099567</td>\n",
       "      <td>0.108827</td>\n",
       "      <td>0.300596</td>\n",
       "    </tr>\n",
       "    <tr>\n",
       "      <th>ADANIPORTS</th>\n",
       "      <td>0.188499</td>\n",
       "      <td>0.592390</td>\n",
       "      <td>1.000000</td>\n",
       "      <td>0.114668</td>\n",
       "      <td>-0.359327</td>\n",
       "      <td>-0.099610</td>\n",
       "      <td>0.328604</td>\n",
       "      <td>-0.202042</td>\n",
       "      <td>0.109972</td>\n",
       "      <td>-0.163774</td>\n",
       "      <td>-0.307221</td>\n",
       "      <td>0.195588</td>\n",
       "    </tr>\n",
       "    <tr>\n",
       "      <th>ASIANPAINT</th>\n",
       "      <td>0.028961</td>\n",
       "      <td>0.170700</td>\n",
       "      <td>0.114668</td>\n",
       "      <td>1.000000</td>\n",
       "      <td>0.133172</td>\n",
       "      <td>0.230359</td>\n",
       "      <td>0.241333</td>\n",
       "      <td>0.465501</td>\n",
       "      <td>0.437058</td>\n",
       "      <td>-0.216647</td>\n",
       "      <td>-0.262653</td>\n",
       "      <td>0.328828</td>\n",
       "    </tr>\n",
       "    <tr>\n",
       "      <th>APOLLOHOSP</th>\n",
       "      <td>-0.258549</td>\n",
       "      <td>-0.071477</td>\n",
       "      <td>-0.359327</td>\n",
       "      <td>0.133172</td>\n",
       "      <td>1.000000</td>\n",
       "      <td>0.111183</td>\n",
       "      <td>-0.088150</td>\n",
       "      <td>0.568907</td>\n",
       "      <td>0.142993</td>\n",
       "      <td>0.522817</td>\n",
       "      <td>0.383180</td>\n",
       "      <td>-0.048788</td>\n",
       "    </tr>\n",
       "    <tr>\n",
       "      <th>BPCL</th>\n",
       "      <td>0.458983</td>\n",
       "      <td>0.055878</td>\n",
       "      <td>-0.099610</td>\n",
       "      <td>0.230359</td>\n",
       "      <td>0.111183</td>\n",
       "      <td>1.000000</td>\n",
       "      <td>0.186910</td>\n",
       "      <td>0.100590</td>\n",
       "      <td>0.024090</td>\n",
       "      <td>0.115095</td>\n",
       "      <td>-0.008298</td>\n",
       "      <td>0.169077</td>\n",
       "    </tr>\n",
       "    <tr>\n",
       "      <th>RELIANCE</th>\n",
       "      <td>0.372099</td>\n",
       "      <td>0.406938</td>\n",
       "      <td>0.328604</td>\n",
       "      <td>0.241333</td>\n",
       "      <td>-0.088150</td>\n",
       "      <td>0.186910</td>\n",
       "      <td>1.000000</td>\n",
       "      <td>0.274592</td>\n",
       "      <td>0.255843</td>\n",
       "      <td>0.144593</td>\n",
       "      <td>-0.140488</td>\n",
       "      <td>0.286541</td>\n",
       "    </tr>\n",
       "    <tr>\n",
       "      <th>BRITANNIA</th>\n",
       "      <td>-0.044909</td>\n",
       "      <td>0.265123</td>\n",
       "      <td>-0.202042</td>\n",
       "      <td>0.465501</td>\n",
       "      <td>0.568907</td>\n",
       "      <td>0.100590</td>\n",
       "      <td>0.274592</td>\n",
       "      <td>1.000000</td>\n",
       "      <td>0.466752</td>\n",
       "      <td>0.187352</td>\n",
       "      <td>0.314542</td>\n",
       "      <td>0.278813</td>\n",
       "    </tr>\n",
       "    <tr>\n",
       "      <th>BAJFINANCE</th>\n",
       "      <td>0.093297</td>\n",
       "      <td>0.347321</td>\n",
       "      <td>0.109972</td>\n",
       "      <td>0.437058</td>\n",
       "      <td>0.142993</td>\n",
       "      <td>0.024090</td>\n",
       "      <td>0.255843</td>\n",
       "      <td>0.466752</td>\n",
       "      <td>1.000000</td>\n",
       "      <td>0.087396</td>\n",
       "      <td>-0.009888</td>\n",
       "      <td>0.283980</td>\n",
       "    </tr>\n",
       "    <tr>\n",
       "      <th>CIPLA</th>\n",
       "      <td>-0.013877</td>\n",
       "      <td>0.099567</td>\n",
       "      <td>-0.163774</td>\n",
       "      <td>-0.216647</td>\n",
       "      <td>0.522817</td>\n",
       "      <td>0.115095</td>\n",
       "      <td>0.144593</td>\n",
       "      <td>0.187352</td>\n",
       "      <td>0.087396</td>\n",
       "      <td>1.000000</td>\n",
       "      <td>0.271190</td>\n",
       "      <td>-0.114790</td>\n",
       "    </tr>\n",
       "    <tr>\n",
       "      <th>BHARTIARTL</th>\n",
       "      <td>-0.088042</td>\n",
       "      <td>0.108827</td>\n",
       "      <td>-0.307221</td>\n",
       "      <td>-0.262653</td>\n",
       "      <td>0.383180</td>\n",
       "      <td>-0.008298</td>\n",
       "      <td>-0.140488</td>\n",
       "      <td>0.314542</td>\n",
       "      <td>-0.009888</td>\n",
       "      <td>0.271190</td>\n",
       "      <td>1.000000</td>\n",
       "      <td>0.108643</td>\n",
       "    </tr>\n",
       "    <tr>\n",
       "      <th>BAJAJ-AUTO</th>\n",
       "      <td>0.132507</td>\n",
       "      <td>0.300596</td>\n",
       "      <td>0.195588</td>\n",
       "      <td>0.328828</td>\n",
       "      <td>-0.048788</td>\n",
       "      <td>0.169077</td>\n",
       "      <td>0.286541</td>\n",
       "      <td>0.278813</td>\n",
       "      <td>0.283980</td>\n",
       "      <td>-0.114790</td>\n",
       "      <td>0.108643</td>\n",
       "      <td>1.000000</td>\n",
       "    </tr>\n",
       "  </tbody>\n",
       "</table>\n",
       "</div>"
      ],
      "text/plain": [
       "            COALINDIA  ADANIENT  ADANIPORTS  ASIANPAINT  APOLLOHOSP      BPCL  \\\n",
       "COALINDIA    1.000000  0.257710    0.188499    0.028961   -0.258549  0.458983   \n",
       "ADANIENT     0.257710  1.000000    0.592390    0.170700   -0.071477  0.055878   \n",
       "ADANIPORTS   0.188499  0.592390    1.000000    0.114668   -0.359327 -0.099610   \n",
       "ASIANPAINT   0.028961  0.170700    0.114668    1.000000    0.133172  0.230359   \n",
       "APOLLOHOSP  -0.258549 -0.071477   -0.359327    0.133172    1.000000  0.111183   \n",
       "BPCL         0.458983  0.055878   -0.099610    0.230359    0.111183  1.000000   \n",
       "RELIANCE     0.372099  0.406938    0.328604    0.241333   -0.088150  0.186910   \n",
       "BRITANNIA   -0.044909  0.265123   -0.202042    0.465501    0.568907  0.100590   \n",
       "BAJFINANCE   0.093297  0.347321    0.109972    0.437058    0.142993  0.024090   \n",
       "CIPLA       -0.013877  0.099567   -0.163774   -0.216647    0.522817  0.115095   \n",
       "BHARTIARTL  -0.088042  0.108827   -0.307221   -0.262653    0.383180 -0.008298   \n",
       "BAJAJ-AUTO   0.132507  0.300596    0.195588    0.328828   -0.048788  0.169077   \n",
       "\n",
       "            RELIANCE  BRITANNIA  BAJFINANCE     CIPLA  BHARTIARTL  BAJAJ-AUTO  \n",
       "COALINDIA   0.372099  -0.044909    0.093297 -0.013877   -0.088042    0.132507  \n",
       "ADANIENT    0.406938   0.265123    0.347321  0.099567    0.108827    0.300596  \n",
       "ADANIPORTS  0.328604  -0.202042    0.109972 -0.163774   -0.307221    0.195588  \n",
       "ASIANPAINT  0.241333   0.465501    0.437058 -0.216647   -0.262653    0.328828  \n",
       "APOLLOHOSP -0.088150   0.568907    0.142993  0.522817    0.383180   -0.048788  \n",
       "BPCL        0.186910   0.100590    0.024090  0.115095   -0.008298    0.169077  \n",
       "RELIANCE    1.000000   0.274592    0.255843  0.144593   -0.140488    0.286541  \n",
       "BRITANNIA   0.274592   1.000000    0.466752  0.187352    0.314542    0.278813  \n",
       "BAJFINANCE  0.255843   0.466752    1.000000  0.087396   -0.009888    0.283980  \n",
       "CIPLA       0.144593   0.187352    0.087396  1.000000    0.271190   -0.114790  \n",
       "BHARTIARTL -0.140488   0.314542   -0.009888  0.271190    1.000000    0.108643  \n",
       "BAJAJ-AUTO  0.286541   0.278813    0.283980 -0.114790    0.108643    1.000000  "
      ]
     },
     "execution_count": 383,
     "metadata": {},
     "output_type": "execute_result"
    }
   ],
   "source": [
    "PctSeriesSamplemean.T.corr()"
   ]
  },
  {
   "cell_type": "markdown",
   "id": "afe936b3",
   "metadata": {},
   "source": [
    "#### Objective Function"
   ]
  },
  {
   "cell_type": "code",
   "execution_count": 384,
   "id": "d41621c6-3448-4f7e-a2d9-95e986609c30",
   "metadata": {},
   "outputs": [],
   "source": [
    "def portfolio_volatility(weights):\n",
    "    return -np.sqrt(np.dot(weights.T, np.dot(covariance_matrix, weights)))"
   ]
  },
  {
   "cell_type": "markdown",
   "id": "cb3b21ee",
   "metadata": {},
   "source": [
    "#### Constraints, Optimization of weights and Simulation of different returns of each stock"
   ]
  },
  {
   "cell_type": "code",
   "execution_count": 412,
   "id": "1c463e25-457b-4205-98e2-313a52738c38",
   "metadata": {},
   "outputs": [],
   "source": [
    "expected_returns = np.array(PctMeanSeries.tolist())\n",
    "MinPortfolioReturns=0.04\n",
    "PerstockMinAllocation=0.01\n",
    "PerstockMaxAllocationLst=[i*0.1 for i in range(1,8)]\n",
    "portfoliomeanRturn,portfoliostdRturn,OptimumWeightsAllocation=[],[],[]\n",
    "# Example covariance matrix (12x12)\n",
    "for PerstockMaxAllocation in PerstockMaxAllocationLst:\n",
    "    covariance_matrix=PctSeriesSamplemean.T.cov().values\n",
    "    cons_eq = ({'type': 'eq', 'fun': lambda x: np.sum(x) - 1}) # Sum of weights equal to 1\n",
    "    cons_ineq1 = ({'type': 'ineq', 'fun': lambda x: x-PerstockMinAllocation}) # Minimum allocation for one stock is 1%\n",
    "    cons_ineq2 = ({'type': 'ineq', 'fun': lambda x: PerstockMaxAllocation-x}) # Maximum allocation for one stock is 15%\n",
    "    cons_ineq3 = ({'type': 'ineq','fun': lambda x: np.dot(expected_returns,x)-MinPortfolioReturns}) # Minimum portfolio returns from portfolio is 50%\n",
    "\n",
    "\n",
    "    initial_weights = np.ones(12) / 12\n",
    "    result = minimize(portfolio_volatility, initial_weights, constraints=[cons_eq, cons_ineq1,cons_ineq2,cons_ineq3])\n",
    "    # The optimized portfolio weights\n",
    "    optimized_weights = result.x\n",
    "    # optimized_weights\n",
    "    Optimum_Weight=pd.DataFrame(data={'Stock':[t for t in list(PctMeanSeries.index)],'Weight':optimized_weights})\n",
    "\n",
    "    Optimum_Weight['Returns']=expected_returns\n",
    "    # meanLst=WtmeanLst\n",
    "    # stdLst=WtStdLst\n",
    "    returnValLst=[]\n",
    "    portfolioVal=100000\n",
    "    # return=np.dot(\n",
    "\n",
    "    def portfolio(env,returnValLst):\n",
    "        # returnVal=0\n",
    "        # stockPriceLst=[]\n",
    "        while True:\n",
    "            stockPricertrn=[]\n",
    "            returnVal=0\n",
    "            for stockreturnemean,stockreturndeviation in zip(PctMeanSeries,PctStdSeries):\n",
    "                stockPricertrn.append(np.random.normal(stockreturnemean,stockreturndeviation))\n",
    "            for wt,stockRtrn in zip(Optimum_Weight['Weight'].tolist(),stockPricertrn):\n",
    "                # print(wt,stockRtrn)\n",
    "                returnVal+=wt*portfolioVal*stockRtrn\n",
    "            # print(returnVal)\n",
    "            returnPct=((returnVal)/100000)\n",
    "            returnValLst.append(returnPct)\n",
    "            yield env.timeout(1)\n",
    "\n",
    "    env=simpy.Environment()\n",
    "    np.random.seed(100)\n",
    "    env.process(portfolio(env,returnValLst))\n",
    "    env.run(until=100000)\n",
    "\n",
    "    # returnsData=pd.DataFrame(data=returnValLst,columns=['Returns'])\n",
    "    # returnsData.describe().T\n",
    "    portfoliomeanRturn.append(np.mean(returnValLst))\n",
    "    portfoliostdRturn.append(np.std(returnValLst))\n",
    "    OptimumWeightsAllocation.append(np.round(optimized_weights,2))\n",
    "# print(portfoliomeanRturn,portfoliostdRturn)"
   ]
  },
  {
   "cell_type": "code",
   "execution_count": 446,
   "id": "e41cece6",
   "metadata": {},
   "outputs": [
    {
     "data": {
      "application/vnd.plotly.v1+json": {
       "config": {
        "plotlyServerURL": "https://plot.ly"
       },
       "data": [
        {
         "hovertemplate": "Allocation=%{x}<br>PortfolioRisk=%{y}<extra></extra>",
         "legendgroup": "",
         "line": {
          "color": "#636efa",
          "dash": "solid"
         },
         "marker": {
          "symbol": "circle"
         },
         "mode": "lines",
         "name": "",
         "orientation": "v",
         "showlegend": false,
         "type": "scatter",
         "x": [
          0.1,
          0.2,
          0.30000000000000004,
          0.4,
          0.5,
          0.6000000000000001,
          0.7000000000000001
         ],
         "xaxis": "x",
         "y": [
          0.0007694550828801038,
          0.0013122684524803736,
          0.0018681528717206571,
          0.0015807225163523076,
          0.001732335046346393,
          0.0019090856166207612,
          0.002136159510277115
         ],
         "yaxis": "y"
        },
        {
         "hovertemplate": "Allocation=%{x}<br>MeanRtrn=%{y}<extra></extra>",
         "legendgroup": "",
         "line": {
          "color": "#636efa",
          "dash": "solid"
         },
         "marker": {
          "symbol": "circle"
         },
         "mode": "lines",
         "name": "",
         "orientation": "v",
         "showlegend": false,
         "type": "scatter",
         "x": [
          0.1,
          0.2,
          0.30000000000000004,
          0.4,
          0.5,
          0.6000000000000001,
          0.7000000000000001
         ],
         "xaxis": "x2",
         "y": [
          0.007196736902506945,
          0.010057922442756996,
          0.010522909806745105,
          0.010792645198611643,
          0.01100182085117184,
          0.011151873284233404,
          0.011301925717278094
         ],
         "yaxis": "y2"
        }
       ],
       "layout": {
        "showlegend": false,
        "template": {
         "data": {
          "bar": [
           {
            "error_x": {
             "color": "#2a3f5f"
            },
            "error_y": {
             "color": "#2a3f5f"
            },
            "marker": {
             "line": {
              "color": "#E5ECF6",
              "width": 0.5
             },
             "pattern": {
              "fillmode": "overlay",
              "size": 10,
              "solidity": 0.2
             }
            },
            "type": "bar"
           }
          ],
          "barpolar": [
           {
            "marker": {
             "line": {
              "color": "#E5ECF6",
              "width": 0.5
             },
             "pattern": {
              "fillmode": "overlay",
              "size": 10,
              "solidity": 0.2
             }
            },
            "type": "barpolar"
           }
          ],
          "carpet": [
           {
            "aaxis": {
             "endlinecolor": "#2a3f5f",
             "gridcolor": "white",
             "linecolor": "white",
             "minorgridcolor": "white",
             "startlinecolor": "#2a3f5f"
            },
            "baxis": {
             "endlinecolor": "#2a3f5f",
             "gridcolor": "white",
             "linecolor": "white",
             "minorgridcolor": "white",
             "startlinecolor": "#2a3f5f"
            },
            "type": "carpet"
           }
          ],
          "choropleth": [
           {
            "colorbar": {
             "outlinewidth": 0,
             "ticks": ""
            },
            "type": "choropleth"
           }
          ],
          "contour": [
           {
            "colorbar": {
             "outlinewidth": 0,
             "ticks": ""
            },
            "colorscale": [
             [
              0,
              "#0d0887"
             ],
             [
              0.1111111111111111,
              "#46039f"
             ],
             [
              0.2222222222222222,
              "#7201a8"
             ],
             [
              0.3333333333333333,
              "#9c179e"
             ],
             [
              0.4444444444444444,
              "#bd3786"
             ],
             [
              0.5555555555555556,
              "#d8576b"
             ],
             [
              0.6666666666666666,
              "#ed7953"
             ],
             [
              0.7777777777777778,
              "#fb9f3a"
             ],
             [
              0.8888888888888888,
              "#fdca26"
             ],
             [
              1,
              "#f0f921"
             ]
            ],
            "type": "contour"
           }
          ],
          "contourcarpet": [
           {
            "colorbar": {
             "outlinewidth": 0,
             "ticks": ""
            },
            "type": "contourcarpet"
           }
          ],
          "heatmap": [
           {
            "colorbar": {
             "outlinewidth": 0,
             "ticks": ""
            },
            "colorscale": [
             [
              0,
              "#0d0887"
             ],
             [
              0.1111111111111111,
              "#46039f"
             ],
             [
              0.2222222222222222,
              "#7201a8"
             ],
             [
              0.3333333333333333,
              "#9c179e"
             ],
             [
              0.4444444444444444,
              "#bd3786"
             ],
             [
              0.5555555555555556,
              "#d8576b"
             ],
             [
              0.6666666666666666,
              "#ed7953"
             ],
             [
              0.7777777777777778,
              "#fb9f3a"
             ],
             [
              0.8888888888888888,
              "#fdca26"
             ],
             [
              1,
              "#f0f921"
             ]
            ],
            "type": "heatmap"
           }
          ],
          "heatmapgl": [
           {
            "colorbar": {
             "outlinewidth": 0,
             "ticks": ""
            },
            "colorscale": [
             [
              0,
              "#0d0887"
             ],
             [
              0.1111111111111111,
              "#46039f"
             ],
             [
              0.2222222222222222,
              "#7201a8"
             ],
             [
              0.3333333333333333,
              "#9c179e"
             ],
             [
              0.4444444444444444,
              "#bd3786"
             ],
             [
              0.5555555555555556,
              "#d8576b"
             ],
             [
              0.6666666666666666,
              "#ed7953"
             ],
             [
              0.7777777777777778,
              "#fb9f3a"
             ],
             [
              0.8888888888888888,
              "#fdca26"
             ],
             [
              1,
              "#f0f921"
             ]
            ],
            "type": "heatmapgl"
           }
          ],
          "histogram": [
           {
            "marker": {
             "pattern": {
              "fillmode": "overlay",
              "size": 10,
              "solidity": 0.2
             }
            },
            "type": "histogram"
           }
          ],
          "histogram2d": [
           {
            "colorbar": {
             "outlinewidth": 0,
             "ticks": ""
            },
            "colorscale": [
             [
              0,
              "#0d0887"
             ],
             [
              0.1111111111111111,
              "#46039f"
             ],
             [
              0.2222222222222222,
              "#7201a8"
             ],
             [
              0.3333333333333333,
              "#9c179e"
             ],
             [
              0.4444444444444444,
              "#bd3786"
             ],
             [
              0.5555555555555556,
              "#d8576b"
             ],
             [
              0.6666666666666666,
              "#ed7953"
             ],
             [
              0.7777777777777778,
              "#fb9f3a"
             ],
             [
              0.8888888888888888,
              "#fdca26"
             ],
             [
              1,
              "#f0f921"
             ]
            ],
            "type": "histogram2d"
           }
          ],
          "histogram2dcontour": [
           {
            "colorbar": {
             "outlinewidth": 0,
             "ticks": ""
            },
            "colorscale": [
             [
              0,
              "#0d0887"
             ],
             [
              0.1111111111111111,
              "#46039f"
             ],
             [
              0.2222222222222222,
              "#7201a8"
             ],
             [
              0.3333333333333333,
              "#9c179e"
             ],
             [
              0.4444444444444444,
              "#bd3786"
             ],
             [
              0.5555555555555556,
              "#d8576b"
             ],
             [
              0.6666666666666666,
              "#ed7953"
             ],
             [
              0.7777777777777778,
              "#fb9f3a"
             ],
             [
              0.8888888888888888,
              "#fdca26"
             ],
             [
              1,
              "#f0f921"
             ]
            ],
            "type": "histogram2dcontour"
           }
          ],
          "mesh3d": [
           {
            "colorbar": {
             "outlinewidth": 0,
             "ticks": ""
            },
            "type": "mesh3d"
           }
          ],
          "parcoords": [
           {
            "line": {
             "colorbar": {
              "outlinewidth": 0,
              "ticks": ""
             }
            },
            "type": "parcoords"
           }
          ],
          "pie": [
           {
            "automargin": true,
            "type": "pie"
           }
          ],
          "scatter": [
           {
            "fillpattern": {
             "fillmode": "overlay",
             "size": 10,
             "solidity": 0.2
            },
            "type": "scatter"
           }
          ],
          "scatter3d": [
           {
            "line": {
             "colorbar": {
              "outlinewidth": 0,
              "ticks": ""
             }
            },
            "marker": {
             "colorbar": {
              "outlinewidth": 0,
              "ticks": ""
             }
            },
            "type": "scatter3d"
           }
          ],
          "scattercarpet": [
           {
            "marker": {
             "colorbar": {
              "outlinewidth": 0,
              "ticks": ""
             }
            },
            "type": "scattercarpet"
           }
          ],
          "scattergeo": [
           {
            "marker": {
             "colorbar": {
              "outlinewidth": 0,
              "ticks": ""
             }
            },
            "type": "scattergeo"
           }
          ],
          "scattergl": [
           {
            "marker": {
             "colorbar": {
              "outlinewidth": 0,
              "ticks": ""
             }
            },
            "type": "scattergl"
           }
          ],
          "scattermapbox": [
           {
            "marker": {
             "colorbar": {
              "outlinewidth": 0,
              "ticks": ""
             }
            },
            "type": "scattermapbox"
           }
          ],
          "scatterpolar": [
           {
            "marker": {
             "colorbar": {
              "outlinewidth": 0,
              "ticks": ""
             }
            },
            "type": "scatterpolar"
           }
          ],
          "scatterpolargl": [
           {
            "marker": {
             "colorbar": {
              "outlinewidth": 0,
              "ticks": ""
             }
            },
            "type": "scatterpolargl"
           }
          ],
          "scatterternary": [
           {
            "marker": {
             "colorbar": {
              "outlinewidth": 0,
              "ticks": ""
             }
            },
            "type": "scatterternary"
           }
          ],
          "surface": [
           {
            "colorbar": {
             "outlinewidth": 0,
             "ticks": ""
            },
            "colorscale": [
             [
              0,
              "#0d0887"
             ],
             [
              0.1111111111111111,
              "#46039f"
             ],
             [
              0.2222222222222222,
              "#7201a8"
             ],
             [
              0.3333333333333333,
              "#9c179e"
             ],
             [
              0.4444444444444444,
              "#bd3786"
             ],
             [
              0.5555555555555556,
              "#d8576b"
             ],
             [
              0.6666666666666666,
              "#ed7953"
             ],
             [
              0.7777777777777778,
              "#fb9f3a"
             ],
             [
              0.8888888888888888,
              "#fdca26"
             ],
             [
              1,
              "#f0f921"
             ]
            ],
            "type": "surface"
           }
          ],
          "table": [
           {
            "cells": {
             "fill": {
              "color": "#EBF0F8"
             },
             "line": {
              "color": "white"
             }
            },
            "header": {
             "fill": {
              "color": "#C8D4E3"
             },
             "line": {
              "color": "white"
             }
            },
            "type": "table"
           }
          ]
         },
         "layout": {
          "annotationdefaults": {
           "arrowcolor": "#2a3f5f",
           "arrowhead": 0,
           "arrowwidth": 1
          },
          "autotypenumbers": "strict",
          "coloraxis": {
           "colorbar": {
            "outlinewidth": 0,
            "ticks": ""
           }
          },
          "colorscale": {
           "diverging": [
            [
             0,
             "#8e0152"
            ],
            [
             0.1,
             "#c51b7d"
            ],
            [
             0.2,
             "#de77ae"
            ],
            [
             0.3,
             "#f1b6da"
            ],
            [
             0.4,
             "#fde0ef"
            ],
            [
             0.5,
             "#f7f7f7"
            ],
            [
             0.6,
             "#e6f5d0"
            ],
            [
             0.7,
             "#b8e186"
            ],
            [
             0.8,
             "#7fbc41"
            ],
            [
             0.9,
             "#4d9221"
            ],
            [
             1,
             "#276419"
            ]
           ],
           "sequential": [
            [
             0,
             "#0d0887"
            ],
            [
             0.1111111111111111,
             "#46039f"
            ],
            [
             0.2222222222222222,
             "#7201a8"
            ],
            [
             0.3333333333333333,
             "#9c179e"
            ],
            [
             0.4444444444444444,
             "#bd3786"
            ],
            [
             0.5555555555555556,
             "#d8576b"
            ],
            [
             0.6666666666666666,
             "#ed7953"
            ],
            [
             0.7777777777777778,
             "#fb9f3a"
            ],
            [
             0.8888888888888888,
             "#fdca26"
            ],
            [
             1,
             "#f0f921"
            ]
           ],
           "sequentialminus": [
            [
             0,
             "#0d0887"
            ],
            [
             0.1111111111111111,
             "#46039f"
            ],
            [
             0.2222222222222222,
             "#7201a8"
            ],
            [
             0.3333333333333333,
             "#9c179e"
            ],
            [
             0.4444444444444444,
             "#bd3786"
            ],
            [
             0.5555555555555556,
             "#d8576b"
            ],
            [
             0.6666666666666666,
             "#ed7953"
            ],
            [
             0.7777777777777778,
             "#fb9f3a"
            ],
            [
             0.8888888888888888,
             "#fdca26"
            ],
            [
             1,
             "#f0f921"
            ]
           ]
          },
          "colorway": [
           "#636efa",
           "#EF553B",
           "#00cc96",
           "#ab63fa",
           "#FFA15A",
           "#19d3f3",
           "#FF6692",
           "#B6E880",
           "#FF97FF",
           "#FECB52"
          ],
          "font": {
           "color": "#2a3f5f"
          },
          "geo": {
           "bgcolor": "white",
           "lakecolor": "white",
           "landcolor": "#E5ECF6",
           "showlakes": true,
           "showland": true,
           "subunitcolor": "white"
          },
          "hoverlabel": {
           "align": "left"
          },
          "hovermode": "closest",
          "mapbox": {
           "style": "light"
          },
          "paper_bgcolor": "white",
          "plot_bgcolor": "#E5ECF6",
          "polar": {
           "angularaxis": {
            "gridcolor": "white",
            "linecolor": "white",
            "ticks": ""
           },
           "bgcolor": "#E5ECF6",
           "radialaxis": {
            "gridcolor": "white",
            "linecolor": "white",
            "ticks": ""
           }
          },
          "scene": {
           "xaxis": {
            "backgroundcolor": "#E5ECF6",
            "gridcolor": "white",
            "gridwidth": 2,
            "linecolor": "white",
            "showbackground": true,
            "ticks": "",
            "zerolinecolor": "white"
           },
           "yaxis": {
            "backgroundcolor": "#E5ECF6",
            "gridcolor": "white",
            "gridwidth": 2,
            "linecolor": "white",
            "showbackground": true,
            "ticks": "",
            "zerolinecolor": "white"
           },
           "zaxis": {
            "backgroundcolor": "#E5ECF6",
            "gridcolor": "white",
            "gridwidth": 2,
            "linecolor": "white",
            "showbackground": true,
            "ticks": "",
            "zerolinecolor": "white"
           }
          },
          "shapedefaults": {
           "line": {
            "color": "#2a3f5f"
           }
          },
          "ternary": {
           "aaxis": {
            "gridcolor": "white",
            "linecolor": "white",
            "ticks": ""
           },
           "baxis": {
            "gridcolor": "white",
            "linecolor": "white",
            "ticks": ""
           },
           "bgcolor": "#E5ECF6",
           "caxis": {
            "gridcolor": "white",
            "linecolor": "white",
            "ticks": ""
           }
          },
          "title": {
           "x": 0.05
          },
          "xaxis": {
           "automargin": true,
           "gridcolor": "white",
           "linecolor": "white",
           "ticks": "",
           "title": {
            "standoff": 15
           },
           "zerolinecolor": "white",
           "zerolinewidth": 2
          },
          "yaxis": {
           "automargin": true,
           "gridcolor": "white",
           "linecolor": "white",
           "ticks": "",
           "title": {
            "standoff": 15
           },
           "zerolinecolor": "white",
           "zerolinewidth": 2
          }
         }
        },
        "xaxis": {
         "anchor": "y",
         "domain": [
          0,
          0.45
         ],
         "title": {
          "text": "Allocation"
         }
        },
        "xaxis2": {
         "anchor": "y2",
         "domain": [
          0.55,
          1
         ],
         "title": {
          "text": "Allocation"
         }
        },
        "yaxis": {
         "anchor": "x",
         "domain": [
          0,
          1
         ],
         "title": {
          "text": "Portfolio Risk"
         }
        },
        "yaxis2": {
         "anchor": "x2",
         "domain": [
          0,
          1
         ],
         "title": {
          "text": "Mean Return"
         }
        }
       }
      },
      "text/html": [
       "<div>                            <div id=\"3f1cf213-a332-4ffc-a1ad-3b3fdc85cb9d\" class=\"plotly-graph-div\" style=\"height:525px; width:100%;\"></div>            <script type=\"text/javascript\">                require([\"plotly\"], function(Plotly) {                    window.PLOTLYENV=window.PLOTLYENV || {};                                    if (document.getElementById(\"3f1cf213-a332-4ffc-a1ad-3b3fdc85cb9d\")) {                    Plotly.newPlot(                        \"3f1cf213-a332-4ffc-a1ad-3b3fdc85cb9d\",                        [{\"hovertemplate\":\"Allocation=%{x}\\u003cbr\\u003ePortfolioRisk=%{y}\\u003cextra\\u003e\\u003c\\u002fextra\\u003e\",\"legendgroup\":\"\",\"line\":{\"color\":\"#636efa\",\"dash\":\"solid\"},\"marker\":{\"symbol\":\"circle\"},\"mode\":\"lines\",\"name\":\"\",\"orientation\":\"v\",\"showlegend\":false,\"x\":[0.1,0.2,0.30000000000000004,0.4,0.5,0.6000000000000001,0.7000000000000001],\"xaxis\":\"x\",\"y\":[0.0007694550828801038,0.0013122684524803736,0.0018681528717206571,0.0015807225163523076,0.001732335046346393,0.0019090856166207612,0.002136159510277115],\"yaxis\":\"y\",\"type\":\"scatter\"},{\"hovertemplate\":\"Allocation=%{x}\\u003cbr\\u003eMeanRtrn=%{y}\\u003cextra\\u003e\\u003c\\u002fextra\\u003e\",\"legendgroup\":\"\",\"line\":{\"color\":\"#636efa\",\"dash\":\"solid\"},\"marker\":{\"symbol\":\"circle\"},\"mode\":\"lines\",\"name\":\"\",\"orientation\":\"v\",\"showlegend\":false,\"x\":[0.1,0.2,0.30000000000000004,0.4,0.5,0.6000000000000001,0.7000000000000001],\"xaxis\":\"x2\",\"y\":[0.007196736902506945,0.010057922442756996,0.010522909806745105,0.010792645198611643,0.01100182085117184,0.011151873284233404,0.011301925717278094],\"yaxis\":\"y2\",\"type\":\"scatter\"}],                        {\"template\":{\"data\":{\"histogram2dcontour\":[{\"type\":\"histogram2dcontour\",\"colorbar\":{\"outlinewidth\":0,\"ticks\":\"\"},\"colorscale\":[[0.0,\"#0d0887\"],[0.1111111111111111,\"#46039f\"],[0.2222222222222222,\"#7201a8\"],[0.3333333333333333,\"#9c179e\"],[0.4444444444444444,\"#bd3786\"],[0.5555555555555556,\"#d8576b\"],[0.6666666666666666,\"#ed7953\"],[0.7777777777777778,\"#fb9f3a\"],[0.8888888888888888,\"#fdca26\"],[1.0,\"#f0f921\"]]}],\"choropleth\":[{\"type\":\"choropleth\",\"colorbar\":{\"outlinewidth\":0,\"ticks\":\"\"}}],\"histogram2d\":[{\"type\":\"histogram2d\",\"colorbar\":{\"outlinewidth\":0,\"ticks\":\"\"},\"colorscale\":[[0.0,\"#0d0887\"],[0.1111111111111111,\"#46039f\"],[0.2222222222222222,\"#7201a8\"],[0.3333333333333333,\"#9c179e\"],[0.4444444444444444,\"#bd3786\"],[0.5555555555555556,\"#d8576b\"],[0.6666666666666666,\"#ed7953\"],[0.7777777777777778,\"#fb9f3a\"],[0.8888888888888888,\"#fdca26\"],[1.0,\"#f0f921\"]]}],\"heatmap\":[{\"type\":\"heatmap\",\"colorbar\":{\"outlinewidth\":0,\"ticks\":\"\"},\"colorscale\":[[0.0,\"#0d0887\"],[0.1111111111111111,\"#46039f\"],[0.2222222222222222,\"#7201a8\"],[0.3333333333333333,\"#9c179e\"],[0.4444444444444444,\"#bd3786\"],[0.5555555555555556,\"#d8576b\"],[0.6666666666666666,\"#ed7953\"],[0.7777777777777778,\"#fb9f3a\"],[0.8888888888888888,\"#fdca26\"],[1.0,\"#f0f921\"]]}],\"heatmapgl\":[{\"type\":\"heatmapgl\",\"colorbar\":{\"outlinewidth\":0,\"ticks\":\"\"},\"colorscale\":[[0.0,\"#0d0887\"],[0.1111111111111111,\"#46039f\"],[0.2222222222222222,\"#7201a8\"],[0.3333333333333333,\"#9c179e\"],[0.4444444444444444,\"#bd3786\"],[0.5555555555555556,\"#d8576b\"],[0.6666666666666666,\"#ed7953\"],[0.7777777777777778,\"#fb9f3a\"],[0.8888888888888888,\"#fdca26\"],[1.0,\"#f0f921\"]]}],\"contourcarpet\":[{\"type\":\"contourcarpet\",\"colorbar\":{\"outlinewidth\":0,\"ticks\":\"\"}}],\"contour\":[{\"type\":\"contour\",\"colorbar\":{\"outlinewidth\":0,\"ticks\":\"\"},\"colorscale\":[[0.0,\"#0d0887\"],[0.1111111111111111,\"#46039f\"],[0.2222222222222222,\"#7201a8\"],[0.3333333333333333,\"#9c179e\"],[0.4444444444444444,\"#bd3786\"],[0.5555555555555556,\"#d8576b\"],[0.6666666666666666,\"#ed7953\"],[0.7777777777777778,\"#fb9f3a\"],[0.8888888888888888,\"#fdca26\"],[1.0,\"#f0f921\"]]}],\"surface\":[{\"type\":\"surface\",\"colorbar\":{\"outlinewidth\":0,\"ticks\":\"\"},\"colorscale\":[[0.0,\"#0d0887\"],[0.1111111111111111,\"#46039f\"],[0.2222222222222222,\"#7201a8\"],[0.3333333333333333,\"#9c179e\"],[0.4444444444444444,\"#bd3786\"],[0.5555555555555556,\"#d8576b\"],[0.6666666666666666,\"#ed7953\"],[0.7777777777777778,\"#fb9f3a\"],[0.8888888888888888,\"#fdca26\"],[1.0,\"#f0f921\"]]}],\"mesh3d\":[{\"type\":\"mesh3d\",\"colorbar\":{\"outlinewidth\":0,\"ticks\":\"\"}}],\"scatter\":[{\"fillpattern\":{\"fillmode\":\"overlay\",\"size\":10,\"solidity\":0.2},\"type\":\"scatter\"}],\"parcoords\":[{\"type\":\"parcoords\",\"line\":{\"colorbar\":{\"outlinewidth\":0,\"ticks\":\"\"}}}],\"scatterpolargl\":[{\"type\":\"scatterpolargl\",\"marker\":{\"colorbar\":{\"outlinewidth\":0,\"ticks\":\"\"}}}],\"bar\":[{\"error_x\":{\"color\":\"#2a3f5f\"},\"error_y\":{\"color\":\"#2a3f5f\"},\"marker\":{\"line\":{\"color\":\"#E5ECF6\",\"width\":0.5},\"pattern\":{\"fillmode\":\"overlay\",\"size\":10,\"solidity\":0.2}},\"type\":\"bar\"}],\"scattergeo\":[{\"type\":\"scattergeo\",\"marker\":{\"colorbar\":{\"outlinewidth\":0,\"ticks\":\"\"}}}],\"scatterpolar\":[{\"type\":\"scatterpolar\",\"marker\":{\"colorbar\":{\"outlinewidth\":0,\"ticks\":\"\"}}}],\"histogram\":[{\"marker\":{\"pattern\":{\"fillmode\":\"overlay\",\"size\":10,\"solidity\":0.2}},\"type\":\"histogram\"}],\"scattergl\":[{\"type\":\"scattergl\",\"marker\":{\"colorbar\":{\"outlinewidth\":0,\"ticks\":\"\"}}}],\"scatter3d\":[{\"type\":\"scatter3d\",\"line\":{\"colorbar\":{\"outlinewidth\":0,\"ticks\":\"\"}},\"marker\":{\"colorbar\":{\"outlinewidth\":0,\"ticks\":\"\"}}}],\"scattermapbox\":[{\"type\":\"scattermapbox\",\"marker\":{\"colorbar\":{\"outlinewidth\":0,\"ticks\":\"\"}}}],\"scatterternary\":[{\"type\":\"scatterternary\",\"marker\":{\"colorbar\":{\"outlinewidth\":0,\"ticks\":\"\"}}}],\"scattercarpet\":[{\"type\":\"scattercarpet\",\"marker\":{\"colorbar\":{\"outlinewidth\":0,\"ticks\":\"\"}}}],\"carpet\":[{\"aaxis\":{\"endlinecolor\":\"#2a3f5f\",\"gridcolor\":\"white\",\"linecolor\":\"white\",\"minorgridcolor\":\"white\",\"startlinecolor\":\"#2a3f5f\"},\"baxis\":{\"endlinecolor\":\"#2a3f5f\",\"gridcolor\":\"white\",\"linecolor\":\"white\",\"minorgridcolor\":\"white\",\"startlinecolor\":\"#2a3f5f\"},\"type\":\"carpet\"}],\"table\":[{\"cells\":{\"fill\":{\"color\":\"#EBF0F8\"},\"line\":{\"color\":\"white\"}},\"header\":{\"fill\":{\"color\":\"#C8D4E3\"},\"line\":{\"color\":\"white\"}},\"type\":\"table\"}],\"barpolar\":[{\"marker\":{\"line\":{\"color\":\"#E5ECF6\",\"width\":0.5},\"pattern\":{\"fillmode\":\"overlay\",\"size\":10,\"solidity\":0.2}},\"type\":\"barpolar\"}],\"pie\":[{\"automargin\":true,\"type\":\"pie\"}]},\"layout\":{\"autotypenumbers\":\"strict\",\"colorway\":[\"#636efa\",\"#EF553B\",\"#00cc96\",\"#ab63fa\",\"#FFA15A\",\"#19d3f3\",\"#FF6692\",\"#B6E880\",\"#FF97FF\",\"#FECB52\"],\"font\":{\"color\":\"#2a3f5f\"},\"hovermode\":\"closest\",\"hoverlabel\":{\"align\":\"left\"},\"paper_bgcolor\":\"white\",\"plot_bgcolor\":\"#E5ECF6\",\"polar\":{\"bgcolor\":\"#E5ECF6\",\"angularaxis\":{\"gridcolor\":\"white\",\"linecolor\":\"white\",\"ticks\":\"\"},\"radialaxis\":{\"gridcolor\":\"white\",\"linecolor\":\"white\",\"ticks\":\"\"}},\"ternary\":{\"bgcolor\":\"#E5ECF6\",\"aaxis\":{\"gridcolor\":\"white\",\"linecolor\":\"white\",\"ticks\":\"\"},\"baxis\":{\"gridcolor\":\"white\",\"linecolor\":\"white\",\"ticks\":\"\"},\"caxis\":{\"gridcolor\":\"white\",\"linecolor\":\"white\",\"ticks\":\"\"}},\"coloraxis\":{\"colorbar\":{\"outlinewidth\":0,\"ticks\":\"\"}},\"colorscale\":{\"sequential\":[[0.0,\"#0d0887\"],[0.1111111111111111,\"#46039f\"],[0.2222222222222222,\"#7201a8\"],[0.3333333333333333,\"#9c179e\"],[0.4444444444444444,\"#bd3786\"],[0.5555555555555556,\"#d8576b\"],[0.6666666666666666,\"#ed7953\"],[0.7777777777777778,\"#fb9f3a\"],[0.8888888888888888,\"#fdca26\"],[1.0,\"#f0f921\"]],\"sequentialminus\":[[0.0,\"#0d0887\"],[0.1111111111111111,\"#46039f\"],[0.2222222222222222,\"#7201a8\"],[0.3333333333333333,\"#9c179e\"],[0.4444444444444444,\"#bd3786\"],[0.5555555555555556,\"#d8576b\"],[0.6666666666666666,\"#ed7953\"],[0.7777777777777778,\"#fb9f3a\"],[0.8888888888888888,\"#fdca26\"],[1.0,\"#f0f921\"]],\"diverging\":[[0,\"#8e0152\"],[0.1,\"#c51b7d\"],[0.2,\"#de77ae\"],[0.3,\"#f1b6da\"],[0.4,\"#fde0ef\"],[0.5,\"#f7f7f7\"],[0.6,\"#e6f5d0\"],[0.7,\"#b8e186\"],[0.8,\"#7fbc41\"],[0.9,\"#4d9221\"],[1,\"#276419\"]]},\"xaxis\":{\"gridcolor\":\"white\",\"linecolor\":\"white\",\"ticks\":\"\",\"title\":{\"standoff\":15},\"zerolinecolor\":\"white\",\"automargin\":true,\"zerolinewidth\":2},\"yaxis\":{\"gridcolor\":\"white\",\"linecolor\":\"white\",\"ticks\":\"\",\"title\":{\"standoff\":15},\"zerolinecolor\":\"white\",\"automargin\":true,\"zerolinewidth\":2},\"scene\":{\"xaxis\":{\"backgroundcolor\":\"#E5ECF6\",\"gridcolor\":\"white\",\"linecolor\":\"white\",\"showbackground\":true,\"ticks\":\"\",\"zerolinecolor\":\"white\",\"gridwidth\":2},\"yaxis\":{\"backgroundcolor\":\"#E5ECF6\",\"gridcolor\":\"white\",\"linecolor\":\"white\",\"showbackground\":true,\"ticks\":\"\",\"zerolinecolor\":\"white\",\"gridwidth\":2},\"zaxis\":{\"backgroundcolor\":\"#E5ECF6\",\"gridcolor\":\"white\",\"linecolor\":\"white\",\"showbackground\":true,\"ticks\":\"\",\"zerolinecolor\":\"white\",\"gridwidth\":2}},\"shapedefaults\":{\"line\":{\"color\":\"#2a3f5f\"}},\"annotationdefaults\":{\"arrowcolor\":\"#2a3f5f\",\"arrowhead\":0,\"arrowwidth\":1},\"geo\":{\"bgcolor\":\"white\",\"landcolor\":\"#E5ECF6\",\"subunitcolor\":\"white\",\"showland\":true,\"showlakes\":true,\"lakecolor\":\"white\"},\"title\":{\"x\":0.05},\"mapbox\":{\"style\":\"light\"}}},\"xaxis\":{\"anchor\":\"y\",\"domain\":[0.0,0.45],\"title\":{\"text\":\"Allocation\"}},\"yaxis\":{\"anchor\":\"x\",\"domain\":[0.0,1.0],\"title\":{\"text\":\"Portfolio Risk\"}},\"xaxis2\":{\"anchor\":\"y2\",\"domain\":[0.55,1.0],\"title\":{\"text\":\"Allocation\"}},\"yaxis2\":{\"anchor\":\"x2\",\"domain\":[0.0,1.0],\"title\":{\"text\":\"Mean Return\"}},\"showlegend\":false},                        {\"responsive\": true}                    ).then(function(){\n",
       "                            \n",
       "var gd = document.getElementById('3f1cf213-a332-4ffc-a1ad-3b3fdc85cb9d');\n",
       "var x = new MutationObserver(function (mutations, observer) {{\n",
       "        var display = window.getComputedStyle(gd).display;\n",
       "        if (!display || display === 'none') {{\n",
       "            console.log([gd, 'removed!']);\n",
       "            Plotly.purge(gd);\n",
       "            observer.disconnect();\n",
       "        }}\n",
       "}});\n",
       "\n",
       "// Listen for the removal of the full notebook cells\n",
       "var notebookContainer = gd.closest('#notebook-container');\n",
       "if (notebookContainer) {{\n",
       "    x.observe(notebookContainer, {childList: true});\n",
       "}}\n",
       "\n",
       "// Listen for the clearing of the current output cell\n",
       "var outputEl = gd.closest('.output');\n",
       "if (outputEl) {{\n",
       "    x.observe(outputEl, {childList: true});\n",
       "}}\n",
       "\n",
       "                        })                };                });            </script>        </div>"
      ]
     },
     "metadata": {},
     "output_type": "display_data"
    }
   ],
   "source": [
    "import plotly.express as px\n",
    "\n",
    "\n",
    "FinalData=pd.DataFrame(data={'Allocation':PerstockMaxAllocationLst,\n",
    "                             'MeanRtrn':portfoliomeanRturn,\n",
    "                             \"PortfolioRisk\":portfoliostdRturn,\n",
    "                             \"OptimumWeights\":OptimumWeightsAllocation})\n",
    "\n",
    "\n",
    "fig1 = px.line(FinalData, x='Allocation', y='PortfolioRisk', title='Portfolio Diversification vs Risk')\n",
    "fig2 = px.line(FinalData, x='Allocation', y='MeanRtrn', title='Portfolio Return')\n",
    "fig = sp.make_subplots(rows=1, cols=2, shared_yaxes=False)\n",
    "fig.add_trace(fig1.data[0], row=1, col=1)\n",
    "fig.add_trace(fig2.data[0], row=1, col=2)\n",
    "fig.update_xaxes(title_text=\"Allocation\", row=1, col=1)\n",
    "fig.update_xaxes(title_text=\"Allocation\", row=1, col=2)\n",
    "fig.update_yaxes(title_text=\"Portfolio Risk\", row=1, col=1)\n",
    "fig.update_yaxes(title_text=\"Mean Return\", row=1, col=2)\n",
    "fig.update_layout(showlegend=False)  # Hide legend\n",
    "fig.show()"
   ]
  },
  {
   "cell_type": "code",
   "execution_count": 447,
   "id": "03af9169-2eca-4282-a462-20bf512cff5f",
   "metadata": {},
   "outputs": [
    {
     "name": "stdout",
     "output_type": "stream",
     "text": [
      "The Optimum Allocation of Portfolio where risk is minimized and return is maximized is at max 0.4 for \n",
      "Risk is 0.16 and Return is 1.08  \n"
     ]
    },
    {
     "data": {
      "text/html": [
       "<div>\n",
       "<style scoped>\n",
       "    .dataframe tbody tr th:only-of-type {\n",
       "        vertical-align: middle;\n",
       "    }\n",
       "\n",
       "    .dataframe tbody tr th {\n",
       "        vertical-align: top;\n",
       "    }\n",
       "\n",
       "    .dataframe thead th {\n",
       "        text-align: right;\n",
       "    }\n",
       "</style>\n",
       "<table border=\"1\" class=\"dataframe\">\n",
       "  <thead>\n",
       "    <tr style=\"text-align: right;\">\n",
       "      <th></th>\n",
       "      <th>Stocks</th>\n",
       "      <th>weights</th>\n",
       "    </tr>\n",
       "  </thead>\n",
       "  <tbody>\n",
       "    <tr>\n",
       "      <th>0</th>\n",
       "      <td>COALINDIA</td>\n",
       "      <td>0.40</td>\n",
       "    </tr>\n",
       "    <tr>\n",
       "      <th>1</th>\n",
       "      <td>ADANIENT</td>\n",
       "      <td>0.11</td>\n",
       "    </tr>\n",
       "    <tr>\n",
       "      <th>2</th>\n",
       "      <td>ADANIPORTS</td>\n",
       "      <td>0.40</td>\n",
       "    </tr>\n",
       "    <tr>\n",
       "      <th>3</th>\n",
       "      <td>ASIANPAINT</td>\n",
       "      <td>0.01</td>\n",
       "    </tr>\n",
       "    <tr>\n",
       "      <th>4</th>\n",
       "      <td>APOLLOHOSP</td>\n",
       "      <td>0.01</td>\n",
       "    </tr>\n",
       "    <tr>\n",
       "      <th>5</th>\n",
       "      <td>BPCL</td>\n",
       "      <td>0.01</td>\n",
       "    </tr>\n",
       "    <tr>\n",
       "      <th>6</th>\n",
       "      <td>RELIANCE</td>\n",
       "      <td>0.01</td>\n",
       "    </tr>\n",
       "    <tr>\n",
       "      <th>7</th>\n",
       "      <td>BRITANNIA</td>\n",
       "      <td>0.01</td>\n",
       "    </tr>\n",
       "    <tr>\n",
       "      <th>8</th>\n",
       "      <td>BAJFINANCE</td>\n",
       "      <td>0.01</td>\n",
       "    </tr>\n",
       "    <tr>\n",
       "      <th>9</th>\n",
       "      <td>CIPLA</td>\n",
       "      <td>0.01</td>\n",
       "    </tr>\n",
       "    <tr>\n",
       "      <th>10</th>\n",
       "      <td>BHARTIARTL</td>\n",
       "      <td>0.01</td>\n",
       "    </tr>\n",
       "    <tr>\n",
       "      <th>11</th>\n",
       "      <td>BAJAJ-AUTO</td>\n",
       "      <td>0.01</td>\n",
       "    </tr>\n",
       "  </tbody>\n",
       "</table>\n",
       "</div>"
      ],
      "text/plain": [
       "        Stocks  weights\n",
       "0    COALINDIA     0.40\n",
       "1     ADANIENT     0.11\n",
       "2   ADANIPORTS     0.40\n",
       "3   ASIANPAINT     0.01\n",
       "4   APOLLOHOSP     0.01\n",
       "5         BPCL     0.01\n",
       "6     RELIANCE     0.01\n",
       "7    BRITANNIA     0.01\n",
       "8   BAJFINANCE     0.01\n",
       "9        CIPLA     0.01\n",
       "10  BHARTIARTL     0.01\n",
       "11  BAJAJ-AUTO     0.01"
      ]
     },
     "execution_count": 447,
     "metadata": {},
     "output_type": "execute_result"
    }
   ],
   "source": [
    "\n",
    "print(f\"The Optimum Allocation of Portfolio where risk is minimized and return is maximized is at max 0.4 for \")\n",
    "print(f\"Risk is {FinalData[FinalData['Allocation']==0.4]['PortfolioRisk'].values[0]*100:.2F} and Return is {FinalData[FinalData['Allocation']==0.4]['MeanRtrn'].values[0]*100:.2F}  \")\n",
    "# print(len(list(PctMeanSeries.index)),FinalData[FinalData['Allocation']==0.4]['OptimumWeights'].to_list()[0])\n",
    "pd.DataFrame(data={'Stocks':list(PctMeanSeries.index),'weights':list(FinalData[FinalData['Allocation']==0.4]['OptimumWeights'].to_list()[0])})"
   ]
  },
  {
   "cell_type": "code",
   "execution_count": null,
   "id": "930ec272",
   "metadata": {},
   "outputs": [],
   "source": []
  }
 ],
 "metadata": {
  "kernelspec": {
   "display_name": "Python 3 (ipykernel)",
   "language": "python",
   "name": "python3"
  },
  "language_info": {
   "codemirror_mode": {
    "name": "ipython",
    "version": 3
   },
   "file_extension": ".py",
   "mimetype": "text/x-python",
   "name": "python",
   "nbconvert_exporter": "python",
   "pygments_lexer": "ipython3",
   "version": "3.9.6"
  }
 },
 "nbformat": 4,
 "nbformat_minor": 5
}
